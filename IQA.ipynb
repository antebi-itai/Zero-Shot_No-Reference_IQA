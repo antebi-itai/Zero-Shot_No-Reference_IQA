{
 "cells": [
  {
   "cell_type": "code",
   "execution_count": 1,
   "id": "833cbb4d",
   "metadata": {},
   "outputs": [
    {
     "name": "stdout",
     "output_type": "stream",
     "text": [
      "CUDA? True\n"
     ]
    },
    {
     "ename": "ImportError",
     "evalue": "attempted relative import with no known parent package",
     "output_type": "error",
     "traceback": [
      "\u001b[0;31m---------------------------------------------------------------------------\u001b[0m",
      "\u001b[0;31mImportError\u001b[0m                               Traceback (most recent call last)",
      "Input \u001b[0;32mIn [1]\u001b[0m, in \u001b[0;36m<cell line: 33>\u001b[0;34m()\u001b[0m\n\u001b[1;32m     31\u001b[0m \u001b[38;5;28;01mfrom\u001b[39;00m \u001b[38;5;21;01mconfig\u001b[39;00m \u001b[38;5;28;01mimport\u001b[39;00m default_config \u001b[38;5;28;01mas\u001b[39;00m config\n\u001b[1;32m     32\u001b[0m \u001b[38;5;28;01mfrom\u001b[39;00m \u001b[38;5;21;01mutils\u001b[39;00m \u001b[38;5;28;01mimport\u001b[39;00m prob_hist, plot_hist, load_pickle, kl_divergence\n\u001b[0;32m---> 33\u001b[0m \u001b[38;5;28;01mfrom\u001b[39;00m \u001b[38;5;21;01mmain\u001b[39;00m \u001b[38;5;28;01mimport\u001b[39;00m our_iqa_metric\n\u001b[1;32m     34\u001b[0m \u001b[38;5;28;01mfrom\u001b[39;00m \u001b[38;5;21;01mswd\u001b[39;00m \u001b[38;5;28;01mimport\u001b[39;00m weights_map_to_image\n\u001b[1;32m     35\u001b[0m \u001b[38;5;28;01mfrom\u001b[39;00m \u001b[38;5;21;01mpyramid\u001b[39;00m \u001b[38;5;28;01mimport\u001b[39;00m pyramid_scale_sqrt_2_shapes\n",
      "File \u001b[0;32m/net/mraid11/export/data/itaian/projects/IQA/main.py:13\u001b[0m, in \u001b[0;36m<module>\u001b[0;34m\u001b[0m\n\u001b[1;32m     10\u001b[0m \u001b[38;5;28;01mfrom\u001b[39;00m \u001b[38;5;21;01mimages\u001b[39;00m \u001b[38;5;28;01mimport\u001b[39;00m imread\n\u001b[1;32m     11\u001b[0m \u001b[38;5;28;01mfrom\u001b[39;00m \u001b[38;5;21;01mResizeRight\u001b[39;00m\u001b[38;5;21;01m.\u001b[39;00m\u001b[38;5;21;01mresize_right\u001b[39;00m \u001b[38;5;28;01mimport\u001b[39;00m resize\n\u001b[0;32m---> 13\u001b[0m \u001b[38;5;28;01mfrom\u001b[39;00m \u001b[38;5;21;01m.\u001b[39;00m\u001b[38;5;21;01mdegrade\u001b[39;00m \u001b[38;5;28;01mimport\u001b[39;00m degrade\n\u001b[1;32m     14\u001b[0m \u001b[38;5;28;01mfrom\u001b[39;00m \u001b[38;5;21;01m.\u001b[39;00m\u001b[38;5;21;01mpyramid\u001b[39;00m \u001b[38;5;28;01mimport\u001b[39;00m pyramid_scale_sqrt_2_shapes\n\u001b[1;32m     15\u001b[0m \u001b[38;5;28;01mfrom\u001b[39;00m \u001b[38;5;21;01m.\u001b[39;00m\u001b[38;5;21;01mswd\u001b[39;00m \u001b[38;5;28;01mimport\u001b[39;00m best_projection_weights, add_noise, weights_map_to_image\n",
      "\u001b[0;31mImportError\u001b[0m: attempted relative import with no known parent package"
     ]
    }
   ],
   "source": [
    "# CUDA\n",
    "import os\n",
    "os.environ['CUDA_VISIBLE_DEVICES'] = '7'\n",
    "import torch\n",
    "print(\"CUDA?\", torch.cuda.is_available())\n",
    "x = torch.rand(10).cuda()\n",
    "\n",
    "# NOTEBOOK\n",
    "import ipywidgets as widgets\n",
    "from ipywidgets import HBox, VBox\n",
    "import numpy as np\n",
    "import matplotlib.pyplot as plt\n",
    "from IPython.display import display\n",
    "%matplotlib inline\n",
    "%matplotlib notebook\n",
    "\n",
    "# IMPORTS\n",
    "import os\n",
    "import torch\n",
    "import torch.nn.functional as F\n",
    "from tqdm import tqdm\n",
    "from math import floor\n",
    "import torchvision\n",
    "import pickle\n",
    "import time\n",
    "import cupy as cp\n",
    "\n",
    "from images import imread, pt2np, imwrite\n",
    "from ResizeRight.resize_right import resize\n",
    "\n",
    "from config import default_config as config\n",
    "from utils import prob_hist, plot_hist, load_pickle, kl_divergence\n",
    "from main import our_iqa_metric\n",
    "from swd import weights_map_to_image\n",
    "from pyramid import pyramid_scale_sqrt_2_shapes\n",
    "from degrade import degrade"
   ]
  },
  {
   "cell_type": "code",
   "execution_count": 5,
   "id": "158c6902",
   "metadata": {},
   "outputs": [
    {
     "ename": "ImportError",
     "evalue": "attempted relative import with no known parent package",
     "output_type": "error",
     "traceback": [
      "\u001b[0;31m---------------------------------------------------------------------------\u001b[0m",
      "\u001b[0;31mImportError\u001b[0m                               Traceback (most recent call last)",
      "Input \u001b[0;32mIn [5]\u001b[0m, in \u001b[0;36m<cell line: 1>\u001b[0;34m()\u001b[0m\n\u001b[0;32m----> 1\u001b[0m \u001b[38;5;28;01mfrom\u001b[39;00m \u001b[38;5;21;01mdegrade\u001b[39;00m \u001b[38;5;28;01mimport\u001b[39;00m degrade\n",
      "File \u001b[0;32m/net/mraid11/export/data/itaian/projects/IQA/degrade.py:6\u001b[0m, in \u001b[0;36m<module>\u001b[0;34m\u001b[0m\n\u001b[1;32m      4\u001b[0m \u001b[38;5;28;01mfrom\u001b[39;00m \u001b[38;5;21;01mio\u001b[39;00m \u001b[38;5;28;01mimport\u001b[39;00m BytesIO\n\u001b[1;32m      5\u001b[0m \u001b[38;5;28;01mfrom\u001b[39;00m \u001b[38;5;21;01mimages\u001b[39;00m \u001b[38;5;28;01mimport\u001b[39;00m pt2np, np2pt\n\u001b[0;32m----> 6\u001b[0m \u001b[38;5;28;01mfrom\u001b[39;00m \u001b[38;5;21;01m.\u001b[39;00m\u001b[38;5;21;01mutils\u001b[39;00m \u001b[38;5;28;01mimport\u001b[39;00m pt2im, im2pt\n\u001b[1;32m      9\u001b[0m \u001b[38;5;28;01mdef\u001b[39;00m \u001b[38;5;21mglass_blur\u001b[39m(image, sigma\u001b[38;5;241m=\u001b[39m\u001b[38;5;241m10\u001b[39m, max_delta\u001b[38;5;241m=\u001b[39m\u001b[38;5;241m10\u001b[39m, iterations\u001b[38;5;241m=\u001b[39m\u001b[38;5;241m1\u001b[39m):\n\u001b[1;32m     10\u001b[0m     _, _, image_h, image_w \u001b[38;5;241m=\u001b[39m image\u001b[38;5;241m.\u001b[39mshape\n",
      "\u001b[0;31mImportError\u001b[0m: attempted relative import with no known parent package"
     ]
    }
   ],
   "source": [
    "from degrade import degrade"
   ]
  },
  {
   "cell_type": "markdown",
   "id": "b061b2df",
   "metadata": {},
   "source": [
    "## dataset_huge  -->  dataset"
   ]
  },
  {
   "cell_type": "code",
   "execution_count": null,
   "id": "da9723d3",
   "metadata": {},
   "outputs": [],
   "source": [
    "import torchvision\n",
    "degradations = [\"big_blur\", \"small_blur\", \"reference\", \"small_wn\", \"big_wn\"]\n",
    "for image_name in os.listdir(os.path.join(base_path, \"dataset_huge\")):\n",
    "    image_path = os.path.join(base_path, \"dataset_huge\", image_name)\n",
    "    original_image = imread(image_path)\n",
    "    \n",
    "    image_scales = pyramid_scale_sqrt_2_shapes(original_image, num_scales=9, patch_size=5, dim_max_size=1024)\n",
    "    # resize to hr\n",
    "    hr_image = resize(original_image, out_shape=image_scales[0]).clip(0, 1)\n",
    "    \n",
    "    for degradation in degradations:\n",
    "        # degrade hr\n",
    "        degraded = degrade(reference=hr_image, degradation=degradation).clip(0, 1)\n",
    "    \n",
    "        for scale_id, out_shape in enumerate(image_scales):\n",
    "            curr_im = resize(degraded, out_shape=out_shape).clip(0, 1)\n",
    "            imwrite(fname=os.path.join(base_path, \"dataset_pyramid\", f\"image_{str(int(image_name[:-4]))}_degradation_{degradation}_scale_{scale_id}.png\"), image=pt2np(curr_im))\n"
   ]
  },
  {
   "cell_type": "markdown",
   "id": "8d08552e",
   "metadata": {},
   "source": [
    "## dataset  -->  pickles (use wandb...)"
   ]
  },
  {
   "cell_type": "markdown",
   "id": "cf92de1f",
   "metadata": {},
   "source": [
    "## pickles  -->  weight histograms"
   ]
  },
  {
   "cell_type": "code",
   "execution_count": 33,
   "id": "f71c2594",
   "metadata": {},
   "outputs": [
    {
     "name": "stdout",
     "output_type": "stream",
     "text": [
      "Loading pickles...\n",
      "reference\n",
      "0, 1, 2, 3, 4, 5, 6, 7, 8, 9, 10, 11, 12, 13, 14, 15, 16, 17, 18, 19, 20, 21, 22, 23, 24, 25, 26, 27, 28, 29, \n",
      "white_noise\n",
      "0, 1, 2, 3, 4, 5, 6, 7, 8, 9, 10, 11, 12, 13, 14, 15, 16, 17, 18, 19, 20, 21, 22, 23, 24, 25, 26, 27, 28, 29, \n",
      "impulse_noise\n",
      "0, 1, 2, 3, 4, 5, 6, 7, 8, 9, 10, 11, 12, 13, 14, 15, 16, 17, 18, 19, 20, 21, 22, 23, 24, 25, 26, 27, 28, 29, \n",
      "gauss_blur\n",
      "0, 1, 2, 3, 4, 5, 6, 7, 8, 9, 10, 11, 12, 13, 14, 15, 16, 17, 18, 19, 20, 21, 22, 23, 24, 25, 26, 27, 28, 29, \n",
      "glass_blur\n",
      "0, 1, 2, 3, 4, 5, 6, 7, 8, 9, 10, 11, 12, 13, 14, 15, 16, 17, 18, 19, 20, 21, 22, 23, 24, 25, 26, 27, 28, 29, \n",
      "jpeg\n",
      "0, 1, 2, 3, 4, 5, 6, 7, 8, 9, 10, 11, 12, 13, 14, 15, 16, 17, 18, 19, 20, 21, 22, 23, 24, 25, 26, 27, 28, 29, \n",
      "Pickles loaded...\n",
      "\n",
      "Saving graphs...\n",
      "reference\n",
      "white_noise\n",
      "0, 1, 2, 3, 4, 5, 6, 7, 8, 9, 10, 11, 12, 13, 14, 15, 16, 17, 18, 19, 20, 21, 22, 23, 24, 25, 26, 27, 28, 29, \n",
      "impulse_noise\n",
      "0, 1, 2, 3, 4, 5, 6, 7, 8, 9, 10, 11, 12, 13, 14, 15, 16, 17, 18, 19, 20, 21, 22, 23, 24, 25, 26, 27, 28, 29, \n",
      "gauss_blur\n",
      "0, 1, 2, 3, 4, 5, 6, 7, 8, 9, 10, 11, 12, 13, 14, 15, 16, 17, 18, 19, 20, 21, 22, 23, 24, 25, 26, 27, 28, 29, \n",
      "glass_blur\n",
      "0, 1, 2, 3, 4, 5, 6, 7, 8, 9, 10, 11, 12, 13, 14, 15, 16, 17, 18, 19, 20, 21, 22, 23, 24, 25, 26, 27, 28, 29, \n",
      "jpeg\n",
      "0, 1, 2, 3, 4, 5, 6, 7, 8, 9, 10, 11, 12, 13, 14, 15, 16, 17, 18, 19, 20, 21, 22, 23, 24, 25, 26, 27, 28, 29, \n",
      "Graphs saved...\n"
     ]
    },
    {
     "data": {
      "text/plain": [
       "<Figure size 432x288 with 0 Axes>"
      ]
     },
     "metadata": {},
     "output_type": "display_data"
    }
   ],
   "source": [
    "degradations = [\"reference\", \"white_noise\", \"impulse_noise\", \"gauss_blur\", \"glass_blur\", \"jpeg\"]\n",
    "image_ids = [i for i in range(30)]\n",
    "severities = [i for i in range(1, 8)]\n",
    "plt.ioff()\n",
    "\n",
    "# Load pickles\n",
    "\n",
    "\n",
    "print(\"Loading pickles...\")\n",
    "kldivs_data = {degradation: torch.full((len(image_ids), len(severities), 2), torch.nan) for degradation in degradations if degradation != \"reference\"}\n",
    "kldivs_data[\"reference\"] = torch.full((len(image_ids), 2,), torch.nan)\n",
    "\n",
    "for degradation in degradations:\n",
    "    print(degradation)\n",
    "    for image_id in image_ids:\n",
    "        print(image_id, end=\", \")\n",
    "        if degradation == \"reference\":\n",
    "            severity = None\n",
    "            pickle_path = f\"{config.base_path}/pickles/image_{image_id}_degradation_{degradation}_{severity}_noises_{config.num_noise}_proj_{config.num_proj}.pkl\"\n",
    "            pickle_result = load_pickle(path=pickle_path)\n",
    "            _, _, histogram_pyramid = pickle_result\n",
    "            kldivs = torch.tensor([kl_divergence(histogram_pyramid[0], histogram_pyramid[-1]),\n",
    "                                   kl_divergence(histogram_pyramid[-1], histogram_pyramid[0])])\n",
    "            kldivs_data[degradation][image_id] = kldivs\n",
    "        else:\n",
    "            for severity in severities:\n",
    "                pickle_path = f\"{config.base_path}/pickles/image_{image_id}_degradation_{degradation}_{severity}_noises_{config.num_noise}_proj_{config.num_proj}.pkl\"\n",
    "                pickle_result = load_pickle(path=pickle_path)\n",
    "                _, _, histogram_pyramid = pickle_result\n",
    "                kldivs = torch.tensor([kl_divergence(histogram_pyramid[0], histogram_pyramid[-1]),\n",
    "                                       kl_divergence(histogram_pyramid[-1], histogram_pyramid[0])])\n",
    "                kldivs_data[degradation][image_id][severity-1] = kldivs\n",
    "    print()\n",
    "print(\"Pickles loaded...\")\n",
    "print()\n",
    "\n",
    "\n",
    "# Save graphs\n",
    "\n",
    "\n",
    "print(\"Saving graphs...\")\n",
    "x = [i for i in range(8)]\n",
    "for degradation in degradations:\n",
    "    print(degradation)\n",
    "    if degradation == \"reference\":\n",
    "        continue\n",
    "\n",
    "    # per-image graph\n",
    "    for image_id in image_ids:\n",
    "        print(image_id, end=\", \")\n",
    "        kldivs_0 = torch.cat([kldivs_data['reference'][image_id, 0].unsqueeze(0), kldivs_data[degradation][image_id, :, 0]])\n",
    "        kldivs_1 = torch.cat([kldivs_data['reference'][image_id, 1].unsqueeze(0), kldivs_data[degradation][image_id, :, 1]])\n",
    "        plt.plot(x, kldivs_0, c=\"blue\")\n",
    "        plt.plot(x, kldivs_1, c=\"red\")\n",
    "        plt.xlabel('severity')\n",
    "        plt.ylabel('KL div')\n",
    "        plt.title(f\"{degradation} - Image {image_id}\")\n",
    "        out_path =  f\"{config.base_path}/graphs_weights/{degradation}/image_{image_id}.png\"\n",
    "        os.makedirs(name=os.path.dirname(out_path), exist_ok=True)\n",
    "        plt.savefig(fname=out_path, facecolor=\"white\")\n",
    "        plt.clf()\n",
    "    \n",
    "    # mean-over-images graph\n",
    "    kldivs_0_mean = torch.cat([kldivs_data['reference'].mean(axis=0)[0].unsqueeze(0), kldivs_data[degradation].mean(axis=0)[:, 0]])\n",
    "    kldivs_0_var = torch.cat([kldivs_data['reference'].var(axis=0)[0].unsqueeze(0), kldivs_data[degradation].var(axis=0)[:, 0]])\n",
    "    kldivs_1_mean = torch.cat([kldivs_data['reference'].mean(axis=0)[1].unsqueeze(0), kldivs_data[degradation].mean(axis=0)[:, 1]])\n",
    "    kldivs_1_var = torch.cat([kldivs_data['reference'].var(axis=0)[1].unsqueeze(0), kldivs_data[degradation].var(axis=0)[:, 1]])\n",
    "    plt.errorbar(x=x, y=kldivs_0_mean, yerr=kldivs_0_var, c=\"blue\")\n",
    "    plt.errorbar(x=x, y=kldivs_1_mean, yerr=kldivs_1_var, c=\"red\")\n",
    "    plt.xlabel('severity')\n",
    "    plt.ylabel('KL div')\n",
    "    plt.title(f\"{degradation} - all images\")\n",
    "    out_path =  f\"{config.base_path}/graphs_weights/{degradation}/{degradation}_mean.png\"\n",
    "    os.makedirs(name=os.path.dirname(out_path), exist_ok=True)\n",
    "    plt.savefig(fname=out_path, facecolor=\"white\")\n",
    "    plt.clf()\n",
    "    print()\n",
    "print(\"Graphs saved...\")\n"
   ]
  },
  {
   "cell_type": "markdown",
   "id": "94718bf5",
   "metadata": {},
   "source": [
    "## pickles  -->  rgb histograms"
   ]
  },
  {
   "cell_type": "code",
   "execution_count": 34,
   "id": "9122ae05",
   "metadata": {},
   "outputs": [
    {
     "name": "stdout",
     "output_type": "stream",
     "text": [
      "Computing kldivs...\n",
      "reference\n",
      "0, 1, 2, 3, 4, 5, 6, 7, 8, 9, 10, 11, 12, 13, 14, 15, 16, 17, 18, 19, 20, 21, 22, 23, 24, 25, 26, 27, 28, 29, \n",
      "white_noise\n",
      "0, 1, 2, 3, 4, 5, 6, 7, 8, 9, 10, 11, 12, 13, 14, 15, 16, 17, 18, 19, 20, 21, 22, 23, 24, 25, 26, 27, 28, 29, \n",
      "impulse_noise\n",
      "0, 1, 2, 3, 4, 5, 6, 7, 8, 9, 10, 11, 12, 13, 14, 15, 16, 17, 18, 19, 20, 21, 22, 23, 24, 25, 26, 27, 28, 29, \n",
      "gauss_blur\n",
      "0, 1, 2, 3, 4, 5, 6, 7, 8, 9, 10, 11, 12, 13, 14, 15, 16, 17, 18, 19, 20, 21, 22, 23, 24, 25, 26, 27, 28, 29, \n",
      "glass_blur\n",
      "0, 1, 2, 3, 4, 5, 6, 7, 8, 9, 10, 11, 12, 13, 14, 15, 16, 17, 18, 19, 20, 21, 22, 23, 24, 25, 26, 27, 28, 29, \n",
      "jpeg\n",
      "0, 1, 2, 3, 4, 5, 6, 7, 8, 9, 10, 11, 12, 13, 14, 15, 16, 17, 18, 19, 20, 21, 22, 23, 24, 25, 26, 27, 28, 29, \n",
      "Kldivs computed...\n",
      "\n",
      "Saving graphs...\n",
      "reference\n",
      "white_noise\n",
      "0, 1, 2, 3, 4, 5, 6, 7, 8, 9, 10, 11, 12, 13, 14, 15, 16, 17, 18, 19, 20, 21, 22, 23, 24, 25, 26, 27, 28, 29, \n",
      "impulse_noise\n",
      "0, 1, 2, 3, 4, 5, 6, 7, 8, 9, 10, 11, 12, 13, 14, 15, 16, 17, 18, 19, 20, 21, 22, 23, 24, 25, 26, 27, 28, 29, \n",
      "gauss_blur\n",
      "0, 1, 2, 3, 4, 5, 6, 7, 8, 9, 10, 11, 12, 13, 14, 15, 16, 17, 18, 19, 20, 21, 22, 23, 24, 25, 26, 27, 28, 29, \n",
      "glass_blur\n",
      "0, 1, 2, 3, 4, 5, 6, 7, 8, 9, 10, 11, 12, 13, 14, 15, 16, 17, 18, 19, 20, 21, 22, 23, 24, 25, 26, 27, 28, 29, \n",
      "jpeg\n",
      "0, 1, 2, 3, 4, 5, 6, 7, 8, 9, 10, 11, 12, 13, 14, 15, 16, 17, 18, 19, 20, 21, 22, 23, 24, 25, 26, 27, 28, 29, \n",
      "Graphs saved...\n"
     ]
    },
    {
     "data": {
      "text/plain": [
       "<Figure size 432x288 with 0 Axes>"
      ]
     },
     "metadata": {},
     "output_type": "display_data"
    }
   ],
   "source": [
    "def get_rgbm_kldivs(image_id, degradation, severity):\n",
    "    if degradation == \"reference\":\n",
    "        assert severity is None\n",
    "    pickle_path = f\"{config.base_path}/pickles/image_{image_id}_degradation_{degradation}_{severity}_noises_{config.num_noise}_proj_{config.num_proj}.pkl\"\n",
    "    pickle_result = load_pickle(path=pickle_path)\n",
    "    image_pyramid = pickle_result[0]\n",
    "    hr_image = image_pyramid[0]\n",
    "    lr_image = image_pyramid[-1]\n",
    "    # add grayscale\n",
    "    hr_image_rgbm = torch.cat([hr_image, hr_image.mean(dim=1, keepdim=True)], dim=1)\n",
    "    lr_image_rgbm = torch.cat([lr_image, lr_image.mean(dim=1, keepdim=True)], dim=1)\n",
    "    # flatten values\n",
    "    hr_image_rgbm_values = hr_image_rgbm.squeeze(0).flatten(start_dim=1)\n",
    "    lr_image_rgbm_values = lr_image_rgbm.squeeze(0).flatten(start_dim=1)\n",
    "    # histograms\n",
    "    hr_image_rgbm_hist = torch.stack([torch.histc(hr_image_rgbm_values[i].cpu(), bins=256, min=0, max=1).cuda() for i in range(4)])\n",
    "    hr_image_rgbm_hist = hr_image_rgbm_hist / hr_image_rgbm_hist.sum(dim=1, keepdim=True)\n",
    "    lr_image_rgbm_hist = torch.stack([torch.histc(lr_image_rgbm_values[i].cpu(), bins=256, min=0, max=1).cuda() for i in range(4)])\n",
    "    lr_image_rgbm_hist = lr_image_rgbm_hist / lr_image_rgbm_hist.sum(dim=1, keepdim=True)\n",
    "    # kldivs\n",
    "    kldivs = [[kl_divergence(hr_image_rgbm_hist[i], lr_image_rgbm_hist[i]) for i in range(4)], \n",
    "              [kl_divergence(lr_image_rgbm_hist[i], hr_image_rgbm_hist[i]) for i in range(4)]]\n",
    "    return torch.tensor(kldivs)\n",
    "\n",
    "\n",
    "degradations = [\"reference\", \"white_noise\", \"impulse_noise\", \"gauss_blur\", \"glass_blur\", \"jpeg\"]\n",
    "image_ids = [i for i in range(30)]\n",
    "severities = [i for i in range(1, 8)]\n",
    "plt.ioff()\n",
    "\n",
    "\n",
    "print(\"Computing kldivs...\")\n",
    "kldivs_data = {degradation: torch.full((len(image_ids), len(severities), 2, 4), torch.nan) for degradation in degradations if degradation != \"reference\"}\n",
    "kldivs_data[\"reference\"] = torch.full((len(image_ids), 2, 4), torch.nan)\n",
    "for degradation in degradations:\n",
    "    print(degradation)\n",
    "    for image_id in image_ids:\n",
    "        print(image_id, end=\", \")\n",
    "        if degradation == \"reference\":\n",
    "            kldivs_data[degradation][image_id] = get_rgbm_kldivs(image_id, degradation, severity=None)\n",
    "        else:\n",
    "            for severity in severities:\n",
    "                kldivs_data[degradation][image_id][severity-1] = get_rgbm_kldivs(image_id, degradation, severity)\n",
    "    print()\n",
    "print(\"Kldivs computed...\")\n",
    "print()\n",
    "\n",
    "\n",
    "print(\"Saving graphs...\")\n",
    "x = [i for i in range(8)]\n",
    "for degradation in degradations:\n",
    "    print(degradation)\n",
    "    if degradation == \"reference\":\n",
    "        continue\n",
    "    # per-image graph\n",
    "    for image_id in image_ids:\n",
    "        print(image_id, end=\", \")\n",
    "        kldivs = torch.cat([kldivs_data['reference'][image_id].unsqueeze(0), kldivs_data[degradation][image_id]])\n",
    "        plt.plot(x, kldivs[:, 0, 0], c=\"red\")\n",
    "        plt.plot(x, kldivs[:, 0, 1], c=\"green\")\n",
    "        plt.plot(x, kldivs[:, 0, 2], c=\"blue\")\n",
    "        plt.plot(x, kldivs[:, 0, 3], c=\"gray\")\n",
    "        plt.plot(x, kldivs[:, 1, 0], c=\"darkred\")\n",
    "        plt.plot(x, kldivs[:, 1, 1], c=\"darkgreen\")\n",
    "        plt.plot(x, kldivs[:, 1, 2], c=\"darkblue\")\n",
    "        plt.plot(x, kldivs[:, 1, 3], c=\"black\")\n",
    "        plt.xlabel('severity')\n",
    "        plt.ylabel('KL div')\n",
    "        plt.title(f\"{degradation} - Image {image_id}\")\n",
    "        out_path =  f\"{config.base_path}/graphs_rgb/{degradation}/image_{image_id}.png\"\n",
    "        os.makedirs(name=os.path.dirname(out_path), exist_ok=True)\n",
    "        plt.savefig(fname=out_path, facecolor=\"white\")\n",
    "        plt.clf()\n",
    "    # mean-over-images graph\n",
    "    kldivs_mean = torch.cat([kldivs_data['reference'].mean(axis=0).unsqueeze(0), kldivs_data[degradation].mean(axis=0)])\n",
    "    kldivs_var = torch.cat([kldivs_data['reference'].var(axis=0).unsqueeze(0), kldivs_data[degradation].var(axis=0)])\n",
    "    plt.errorbar(x=x, y=kldivs_mean[:, 0, 0], yerr=kldivs_var[:, 0, 0], c=\"red\")\n",
    "    plt.errorbar(x=x, y=kldivs_mean[:, 0, 1], yerr=kldivs_var[:, 0, 1], c=\"green\")\n",
    "    plt.errorbar(x=x, y=kldivs_mean[:, 0, 2], yerr=kldivs_var[:, 0, 2], c=\"blue\")\n",
    "    plt.errorbar(x=x, y=kldivs_mean[:, 0, 3], yerr=kldivs_var[:, 0, 3], c=\"gray\")\n",
    "    plt.errorbar(x=x, y=kldivs_mean[:, 1, 0], yerr=kldivs_var[:, 1, 0], c=\"darkred\")\n",
    "    plt.errorbar(x=x, y=kldivs_mean[:, 1, 1], yerr=kldivs_var[:, 1, 1], c=\"darkgreen\")\n",
    "    plt.errorbar(x=x, y=kldivs_mean[:, 1, 2], yerr=kldivs_var[:, 1, 2], c=\"darkblue\")\n",
    "    plt.errorbar(x=x, y=kldivs_mean[:, 1, 3], yerr=kldivs_var[:, 1, 3], c=\"black\")\n",
    "    plt.xlabel('severity')\n",
    "    plt.ylabel('KL div')\n",
    "    plt.title(f\"{degradation} - all images\")\n",
    "    out_path =  f\"{config.base_path}/graphs_rgb/{degradation}/{degradation}_mean.png\"\n",
    "    os.makedirs(name=os.path.dirname(out_path), exist_ok=True)\n",
    "    plt.savefig(fname=out_path, facecolor=\"white\")\n",
    "    plt.clf()\n",
    "    print()\n",
    "print(\"Graphs saved...\")\n"
   ]
  },
  {
   "cell_type": "code",
   "execution_count": 75,
   "id": "9a43ff8b",
   "metadata": {},
   "outputs": [],
   "source": [
    "image_id = 0\n",
    "degradation = \"jpeg\"\n",
    "severity = 7\n",
    "\n",
    "result_path = f\"{config.base_path}/pickles/image_{image_id}_degradation_{degradation}_{severity}_noises_{config.num_noise}_proj_{config.num_proj}.pkl\"\n",
    "image_pyramid, weight_maps_pyramid, histogram_pyramid = load_pickle(result_path)"
   ]
  },
  {
   "cell_type": "code",
   "execution_count": 76,
   "id": "22df38fc",
   "metadata": {},
   "outputs": [],
   "source": [
    "imwrite(\"/home/itaian/tmp/big.png\", pt2np(image_pyramid[0]))\n",
    "imwrite(\"/home/itaian/tmp/small.png\", pt2np(image_pyramid[-1]))"
   ]
  },
  {
   "cell_type": "code",
   "execution_count": 57,
   "id": "5ba52137",
   "metadata": {},
   "outputs": [
    {
     "data": {
      "text/plain": [
       "<matplotlib.image.AxesImage at 0x7f6f1c4dbe50>"
      ]
     },
     "execution_count": 57,
     "metadata": {},
     "output_type": "execute_result"
    },
    {
     "data": {
      "image/png": "[encoded data removed]",
      "text/plain": [
       "<Figure size 432x288 with 1 Axes>"
      ]
     },
     "metadata": {
      "needs_background": "light"
     },
     "output_type": "display_data"
    }
   ],
   "source": [
    "plt.imshow(pt2np(weights_map_to_image(weight_maps_pyramid[0], patch_size=config.patch_size)))"
   ]
  },
  {
   "cell_type": "code",
   "execution_count": 80,
   "id": "950a2e9f",
   "metadata": {},
   "outputs": [],
   "source": [
    "image = imread(\"/home/itaian/tmp/input.jpg\")\n",
    "jp = degrade(image, \"jpeg\", 5)\n",
    "imwrite(\"/home/itaian/tmp/input_jp.png\", pt2np(jp))\n",
    "\n",
    "small_input = resize(image, scale_factors=0.01).clip(0, 1)\n",
    "imwrite(\"/home/itaian/tmp/small_input.png\", pt2np(small_input))\n",
    "small_jp = resize(jp, scale_factors=0.01).clip(0, 1)\n",
    "imwrite(\"/home/itaian/tmp/small_jp.png\", pt2np(small_jp))"
   ]
  },
  {
   "cell_type": "code",
   "execution_count": 79,
   "id": "864f2017",
   "metadata": {},
   "outputs": [],
   "source": [
    "resize?\n"
   ]
  },
  {
   "cell_type": "code",
   "execution_count": 58,
   "id": "395057cd",
   "metadata": {},
   "outputs": [
    {
     "data": {
      "image/png": "[encoded data removed]",
      "text/plain": [
       "<Figure size 432x288 with 1 Axes>"
      ]
     },
     "metadata": {
      "needs_background": "light"
     },
     "output_type": "display_data"
    }
   ],
   "source": [
    "plot_hist(histogram_pyramid[0], start=0, end=10, color=\"blue\")\n",
    "plot_hist(histogram_pyramid[-1], start=0, end=10, color=\"red\")"
   ]
  },
  {
   "cell_type": "code",
   "execution_count": 72,
   "id": "82f38299",
   "metadata": {},
   "outputs": [
    {
     "data": {
      "text/plain": [
       "<matplotlib.legend.Legend at 0x7f6f5c1e9690>"
      ]
     },
     "execution_count": 72,
     "metadata": {},
     "output_type": "execute_result"
    },
    {
     "data": {
      "image/png": "[encoded data removed]",
      "text/plain": [
       "<Figure size 432x288 with 1 Axes>"
      ]
     },
     "metadata": {
      "needs_background": "light"
     },
     "output_type": "display_data"
    }
   ],
   "source": [
    "for i in range(8):\n",
    "    plot_hist(prob_hist(image_pyramid[i].mean(dim=1).flatten(), bins=256, min=0, max=1), start=0, end=1, label=i)\n",
    "plt.legend()\n"
   ]
  },
  {
   "cell_type": "code",
   "execution_count": 60,
   "id": "c5ee304a",
   "metadata": {},
   "outputs": [
    {
     "data": {
      "text/plain": [
       "torch.Size([172720])"
      ]
     },
     "execution_count": 60,
     "metadata": {},
     "output_type": "execute_result"
    }
   ],
   "source": [
    "image_pyramid[2].mean(dim=1).flatten().shape"
   ]
  },
  {
   "cell_type": "markdown",
   "id": "88fe2492",
   "metadata": {},
   "source": [
    "# Experiment"
   ]
  },
  {
   "cell_type": "code",
   "execution_count": 35,
   "id": "f22358bf",
   "metadata": {},
   "outputs": [
    {
     "data": {
      "image/png": "[encoded data removed]",
      "text/plain": [
       "<Figure size 432x288 with 1 Axes>"
      ]
     },
     "metadata": {
      "needs_background": "light"
     },
     "output_type": "display_data"
    }
   ],
   "source": [
    "%matplotlib inline\n",
    "\n",
    "def kld_gauss(u1, s1, u2, s2):\n",
    "  # general KL two Gaussians\n",
    "  # u2, s2 often N(0,1)\n",
    "  # https://stats.stackexchange.com/questions/7440/ +\n",
    "  # kl-divergence-between-two-univariate-gaussians\n",
    "  # log(s2/s1) + [( s1^2 + (u1-u2)^2 ) / 2*s2^2] - 0.5\n",
    "  v1 = s1 * s1\n",
    "  v2 = s2 * s2\n",
    "  a = np.log(s2/s1) \n",
    "  num = v1 + (u1 - u2)**2\n",
    "  den = 2 * v2\n",
    "  b = num / den\n",
    "  return a + b - 0.5\n",
    "\n",
    "u1, s1 = -0.1, 0.5\n",
    "u2, s2 = 1, 1.5\n",
    "numel = 100000\n",
    "bins = 500\n",
    "bounds = 10\n",
    "\n",
    "# histograms\n",
    "p = prob_hist(values=torch.normal(mean=u1+torch.zeros(numel), std=s1*torch.ones(numel)), \n",
    "              bins=bins, min=-bounds, max=bounds)\n",
    "q = prob_hist(values=torch.normal(mean=u2+torch.zeros(numel), std=s2*torch.ones(numel)), \n",
    "              bins=bins, min=-bounds, max=bounds)\n",
    "\n",
    "# KLs\n",
    "kl = kl_divergence(p, q)\n",
    "true = kld_gauss(u1, s1, u2, s2)\n",
    "\n",
    "# plot\n",
    "plot_hist(p, start=-bounds, end=bounds, color=\"blue\")\n",
    "plot_hist(q, start=-bounds, end=bounds, color=\"red\")\n",
    "plt.title(f\"True: {round(true, 2)}   Our: {round(kl.item(), 2)}\")\n",
    "plt.show()\n"
   ]
  },
  {
   "cell_type": "code",
   "execution_count": null,
   "id": "fc220c12",
   "metadata": {},
   "outputs": [],
   "source": [
    "def cupy_histogram(x, bins, device='cuda'):\n",
    "    x = cp.asarray(x)\n",
    "    bins = cp.asarray(bins)\n",
    "    hist = cp.histogram(x=x, bins=bins)[0]\n",
    "    return torch.as_tensor(hist, device=device)\n",
    "\n",
    "\n",
    "for test in range(10):\n",
    "\n",
    "    values = torch.rand(4 * 10000).cuda()\n",
    "    bins = torch.rand(1000, 10000).sort(dim=1).values.cuda()\n",
    "\n",
    "    # for loop\n",
    "    start = time.time()\n",
    "    hists = []\n",
    "    for bin_idx in range(bins.size(0)):\n",
    "        hists.append(cupy_histogram(x=values, bins=bins[bin_idx])) \n",
    "    hists = torch.stack(hists)\n",
    "    end = time.time()\n",
    "    loop = round(end - start, 2)\n",
    "\n",
    "    # no loop\n",
    "    start = time.time()\n",
    "    hists2 = multi_bin_hist(values, bins)\n",
    "    end = time.time()\n",
    "    no_loop = round(end - start, 2)\n",
    "    \n",
    "    success_rate = round(100 * (hists == hists2).count_nonzero().item() / hists.numel(), 5)\n",
    "    print(f\"Test #{test} - {success_rate}%; loop took {loop}, no_loop took {no_loop}\")\n"
   ]
  },
  {
   "cell_type": "code",
   "execution_count": 89,
   "id": "c23ada8b",
   "metadata": {},
   "outputs": [],
   "source": []
  },
  {
   "cell_type": "markdown",
   "id": "20435f8f",
   "metadata": {},
   "source": [
    "# OLD STUFF"
   ]
  },
  {
   "cell_type": "markdown",
   "id": "e2450de7",
   "metadata": {},
   "source": [
    "## blur-reference-wn histograms "
   ]
  },
  {
   "cell_type": "code",
   "execution_count": null,
   "id": "53f81aaf",
   "metadata": {},
   "outputs": [],
   "source": [
    "num_proj=256\n",
    "num_noise=256\n",
    "patch_size=5\n",
    "base_path = f\"/home/itaian/data/results/SWD/IQA\"\n",
    "\n",
    "degradations = [\"big_blur\", \"small_blur\", \"reference\", \"small_wn\", \"big_wn\"]\n",
    "scales = [i for i in range(2, 9)]\n",
    "colors = [\"black\", \"purple\", \"blue\", \"green\", \"gold\", \"salmon\", \"red\"]\n",
    "\n",
    "for image_id in range(1, 19):\n",
    "    print(\"Image\", image_id)\n",
    "    # image_id = 1\n",
    "\n",
    "    fig, axs = plt.subplots(1, 5, figsize=(20, 12))\n",
    "    fig.suptitle(f'image {image_id}')\n",
    "\n",
    "    for ax_i, degradation in enumerate(degradations):\n",
    "\n",
    "        ps = []\n",
    "        for scale, color in zip(scales, colors):\n",
    "            # get patch_counts\n",
    "            base_name = f\"image_{image_id}_degradation_{degradation}_scale_{scale}\"\n",
    "            weight_path = f\"{base_path}/weights/{base_name}.pt\"\n",
    "            weights = torch.load(weight_path).cuda()\n",
    "            patch_counts = weights.squeeze().mean(dim=0)[patch_size//2:-patch_size//2, patch_size//2:-patch_size//2].flatten()\n",
    "            patch_counts = patch_counts.sort().values.cpu().numpy()\n",
    "\n",
    "            # plot hist\n",
    "            z = axs[ax_i].hist(patch_counts, bins=1000, range=(2, 8), density=True, histtype=\"step\", color=color, label=scale)\n",
    "            axs[ax_i].legend()\n",
    "\n",
    "            # for KL calc\n",
    "            eps = 1e-4\n",
    "            p = np.maximum(z[0] / z[0].sum(), eps)\n",
    "            ps.append(p)\n",
    "\n",
    "        kldiv = (kl_divergence(ps[0], ps[-1]) + kl_divergence(ps[-1], ps[0])) / 2\n",
    "        axs[ax_i].set_title(f\"{degradation}\\nKL {round(kldiv, 4)}\")\n",
    "        \n",
    "        image_path = f\"{base_path}/histograms/image_{image_id}.png\"\n",
    "        os.makedirs(os.path.dirname(image_path), exist_ok=True)\n",
    "        plt.savefig(fname=image_path, facecolor=\"white\")\n"
   ]
  },
  {
   "cell_type": "markdown",
   "id": "0a4afd25",
   "metadata": {},
   "source": [
    "## condition numbers"
   ]
  },
  {
   "cell_type": "code",
   "execution_count": null,
   "id": "0ca97389",
   "metadata": {},
   "outputs": [],
   "source": [
    "%matplotlib inline\n",
    "from torchmetrics.functional import image_gradients\n",
    "import torch.nn.functional as F\n",
    "import matplotlib.pyplot as plt\n",
    "\n",
    "for image_id in range(16, 17):\n",
    "    print(\"Image\", image_id)\n",
    "    for degradation in degradations:\n",
    "        for scale in scales:\n",
    "            \n",
    "            # read image\n",
    "            base_name = f\"image_{image_id}_degradation_{degradation}_scale_{scale}\"\n",
    "            image_path = f\"{base_path}/dataset_pyramid/{base_name}.png\"\n",
    "            image = imread(image_path)\n",
    "            h, w = image.shape[-2:]\n",
    "            h_, w_ = h - (patch_size - 1), w - (patch_size - 1)\n",
    "\n",
    "            # Lucas Kanade\n",
    "            gray_image = image.mean(dim=1).unsqueeze(1)\n",
    "            dy, dx = image_gradients(gray_image)\n",
    "            dy = F.unfold(dy, kernel_size=patch_size).squeeze().t().reshape(h_, w_, patch_size, patch_size)\n",
    "            dx = F.unfold(dx, kernel_size=patch_size).squeeze().t().reshape(h_, w_, patch_size, patch_size)\n",
    "            LK = torch.stack([dx.pow(2).sum(dim=(2, 3)), \n",
    "                              (dx * dy).sum(dim=(2, 3)), \n",
    "                              (dx * dy).sum(dim=(2, 3)), \n",
    "                              dy.pow(2).sum(dim=(2, 3))], dim=2)\n",
    "            LK = LK.reshape(h_, w_, 2, 2)\n",
    "\n",
    "            # condition numbers\n",
    "            eps = 1e-2\n",
    "            singular_values = torch.linalg.svd(LK).S\n",
    "            condition_numbers = singular_values[:, :, 0] / (singular_values[:, :, -1] + eps)\n",
    "            condition_numbers = condition_numbers.view(1, 1, h_, w_)\n",
    "            condition_numbers_plt = F.pad(condition_numbers, pad=[patch_size // 2] * 4, value=0)\n",
    "\n",
    "            # plot condition number\n",
    "            plt.imshow(condition_numbers_plt.squeeze().unsqueeze(-1).numpy())\n",
    "            plt.colorbar()\n",
    "            plt.title(\"Condition Numbers\")\n",
    "            plt.savefig(fname=f\"{base_path}/LK_condition_numbers/{base_name}.png\", facecolor=\"white\")\n",
    "            plt.close()\n"
   ]
  },
  {
   "cell_type": "markdown",
   "id": "09e84c4e",
   "metadata": {},
   "source": [
    "## interactive buttons"
   ]
  },
  {
   "cell_type": "code",
   "execution_count": null,
   "id": "b806a9f3",
   "metadata": {},
   "outputs": [],
   "source": [
    "@widgets.interact_manual(\n",
    "    image_id=[i for i in range(1, 801)], \n",
    "    hr_scale=[2**i for i in range(0, 5)],\n",
    "    degradation=[\"reference\", \"small_wn\", \"big_wn\", \"small_blur\", \"big_blur\"], \n",
    "    num_proj=[2**i for i in range(6, 12)], \n",
    "    num_noise=[2**i for i in range(6, 12)])\n",
    "def update(image_id=1, hr_scale=4, degradation=\"reference\", num_proj=128, num_noise=512):\n",
    "\n",
    "    # images\n",
    "    hr_image = imread(os.path.join(config.DATASET_PATH, f'{image_id:04d}.png')).cuda()\n",
    "    hr_image = resize(input=hr_image, scale_factors=1/hr_scale, pad_mode='reflect').clip(0, 1)\n",
    "    hr_image = degrade(reference=hr_image, degradation=degradation).clip(0, 1)\n",
    "    lr_image = resize(input=hr_image, scale_factors=0.5, pad_mode='reflect').clip(0, 1)\n",
    "    image_path = f\"/home/itaian/data/results/SWD/IQA/image_{image_id}_hr_scale_{hr_scale}_degradation_{degradation}_num_proj_{num_proj}_num_noise_{num_noise}\"\n",
    "    imwrite(fname=f\"{image_path}_hr.png\", image=pt2np(hr_image))\n",
    "    imwrite(fname=f\"{image_path}_lr.png\", image=pt2np(lr_image))\n",
    "    \n",
    "    # projections\n",
    "    proj_path = f\"/home/itaian/data/projections/{num_proj}_{config.patch_size}.pt\"\n",
    "    if os.path.exists(proj_path):\n",
    "        proj = torch.load(proj_path).cuda()\n",
    "    else:\n",
    "        proj = sample_random_projections(patch_size=config.patch_size, num_proj=num_proj)\n",
    "        os.makedirs(os.path.dirname(proj_path), exist_ok=True)\n",
    "        torch.save(proj, proj_path)\n",
    "\n",
    "    # weight maps\n",
    "    weight_path = f\"/home/itaian/data/weights/image_{image_id}_hr_scale_{hr_scale}_degradation_{degradation}_num_proj_{num_proj}_num_noise_{num_noise}.pt\"\n",
    "    if os.path.exists(weight_path):\n",
    "        weights = torch.load(weight_path).cuda()\n",
    "        print(\"weights loaded\")\n",
    "    else:\n",
    "        h, w = lr_image.shape[-2:]\n",
    "        weights = torch.zeros(num_proj, 1, h, w)\n",
    "        for _ in tqdm(range(num_noise)):\n",
    "            weights += best_projection_weights(hr_image=add_noise(hr_image), lr_image=add_noise(lr_image), rand=proj).float().cpu()\n",
    "        weights = weights / num_noise\n",
    "        os.makedirs(os.path.dirname(weight_path), exist_ok=True)\n",
    "        torch.save(weights, weight_path)\n",
    "        imwrite(fname=weight_path[:-2]+\".png\", image=pt2np(weights.mean(dim=0, keepdims=True).repeat([1, 3, 1, 1]).clip(0, 8)/8))\n",
    "        print(\"weights computed\")\n",
    "\n",
    "    # update state\n",
    "    state.lr_image = pt2np(lr_image)\n",
    "    state.weights = weights\n",
    "\n",
    "def on_press(event):\n",
    "    with open(\"/home/itaian/tmp/tmp/notebook.log\", \"ab\") as f:\n",
    "        # get pressed location\n",
    "        h, w = floor(event.ydata), floor(event.xdata)\n",
    "\n",
    "        patch_counts = sorted(state.weights.squeeze(dim=1)[:, h, w].tolist())\n",
    "        mean = sum(patch_counts) / len(patch_counts)\n",
    "        \n",
    "        title = f'Mean: {round(mean, 3)}; Location: ({h}, {w})\\n'\n",
    "        f.write(title.encode())\n",
    "        f.write(f'Counts: {patch_counts}\\n'.encode())\n",
    "        \n",
    "        ax2.clear()\n",
    "        ax2.hist(patch_counts, bins=[(i/3) for i in range(3*50)])\n",
    "        ax2.set_title(title)\n",
    "        fig.canvas.draw()\n",
    "        \n",
    "        f.write(f'\\n'.encode())\n",
    "\n",
    "\n",
    "# create figure\n",
    "fig, (ax1, ax2) = plt.subplots(1, 2, figsize=(14, 6), gridspec_kw={'width_ratios': [7, 3]})\n",
    "# connect figure to function\n",
    "cid = fig.canvas.mpl_connect('button_press_event', on_press)\n",
    "# plot image\n",
    "ax1.imshow(state.lr_image)\n"
   ]
  }
 ],
 "metadata": {
  "kernelspec": {
   "display_name": "Python 3 (ipykernel)",
   "language": "python",
   "name": "python3"
  },
  "language_info": {
   "codemirror_mode": {
    "name": "ipython",
    "version": 3
   },
   "file_extension": ".py",
   "mimetype": "text/x-python",
   "name": "python",
   "nbconvert_exporter": "python",
   "pygments_lexer": "ipython3",
   "version": "3.10.9"
  }
 },
 "nbformat": 4,
 "nbformat_minor": 5
}
